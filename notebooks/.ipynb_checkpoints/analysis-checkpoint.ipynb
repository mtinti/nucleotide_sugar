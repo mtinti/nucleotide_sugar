{
 "cells": [
  {
   "cell_type": "markdown",
   "metadata": {},
   "source": [
    "![title](../static/wcar.png)\n",
    "#  Pull Down / Fractionation Analysis\n",
    "\n",
    "    Wellcome Centre for Anti-Infectives Research\n",
    "    School of Life Sciences, University of Dundee"
   ]
  },
  {
   "cell_type": "code",
   "execution_count": 1,
   "metadata": {},
   "outputs": [
    {
     "data": {
      "text/plain": [
       "PosixPath('/Users/mtinti/Desktop/git_projects/lucia_LG1_LG2/notebooks')"
      ]
     },
     "execution_count": 1,
     "metadata": {},
     "output_type": "execute_result"
    }
   ],
   "source": [
    "import pathlib\n",
    "pathlib.Path().absolute()"
   ]
  },
  {
   "cell_type": "code",
   "execution_count": 2,
   "metadata": {},
   "outputs": [],
   "source": [
    "#reload library if modified\n",
    "%load_ext autoreload\n",
    "%autoreload 2"
   ]
  },
  {
   "cell_type": "code",
   "execution_count": 3,
   "metadata": {},
   "outputs": [],
   "source": [
    "import sys\n",
    "sys.path.insert(0, '../mylib')"
   ]
  },
  {
   "cell_type": "code",
   "execution_count": 4,
   "metadata": {},
   "outputs": [],
   "source": [
    "import os\n",
    "from ProteomicsUtility import utilities as PTUT\n",
    "import pandas as pd\n",
    "import seaborn as sns\n",
    "import ProtRank\n",
    "import matplotlib.pyplot as plt\n",
    "import numpy as np"
   ]
  },
  {
   "cell_type": "markdown",
   "metadata": {},
   "source": [
    "## Load and clean dataset"
   ]
  },
  {
   "cell_type": "markdown",
   "metadata": {},
   "source": [
    "### add High Confidende Glycosome proteome"
   ]
  },
  {
   "cell_type": "code",
   "execution_count": 5,
   "metadata": {},
   "outputs": [
    {
     "data": {
      "text/plain": [
       "159"
      ]
     },
     "execution_count": 5,
     "metadata": {},
     "output_type": "execute_result"
    }
   ],
   "source": [
    "hc_glycosome = open('../HC_gly.txt').read().split('\\n')\n",
    "len(hc_glycosome)"
   ]
  },
  {
   "cell_type": "code",
   "execution_count": 6,
   "metadata": {},
   "outputs": [
    {
     "data": {
      "text/plain": [
       "['Tb927.1.3220:',\n",
       " 'Tb927.1.3830:',\n",
       " 'Tb927.1.4490:',\n",
       " 'Tb927.1.5000:',\n",
       " 'Tb927.1.720:']"
      ]
     },
     "execution_count": 6,
     "metadata": {},
     "output_type": "execute_result"
    }
   ],
   "source": [
    "hc_glycosome = [n+':' for n in hc_glycosome]\n",
    "hc_glycosome[0:5]"
   ]
  },
  {
   "cell_type": "code",
   "execution_count": 7,
   "metadata": {},
   "outputs": [
    {
     "data": {
      "text/plain": [
       "34"
      ]
     },
     "execution_count": 7,
     "metadata": {},
     "output_type": "execute_result"
    }
   ],
   "source": [
    "df = pd.read_csv('../txt/proteinGroups.txt',sep='\\t')\n",
    "filter_gly = []\n",
    "for n in df['Protein IDs']:\n",
    "    found = False\n",
    "    for g in hc_glycosome:\n",
    "        if g in n:\n",
    "            found = True\n",
    "    filter_gly.append(found)\n",
    "\n",
    "df['HC_gly']=filter_gly\n",
    "sum(filter_gly)"
   ]
  },
  {
   "cell_type": "markdown",
   "metadata": {},
   "source": [
    "### add gene symbol from TriTrypDB"
   ]
  },
  {
   "cell_type": "code",
   "execution_count": 8,
   "metadata": {},
   "outputs": [],
   "source": [
    "gene_table = pd.read_csv('../txt/GenesByTaxon_Summary.txt',sep='\\t')\n",
    "symbol_dict = dict(zip(gene_table['Gene ID'],gene_table['Gene Name or Symbol']))\n",
    "symbol_dict['Tb927.8.520']\n",
    "symbol_dict['Tb927.4.1360']='Aldose-1-Epi'\n",
    "symbol_dict['Tb927.7.5680']='dRPA'\n",
    "symbol_dict['Tb927.11.1020']='RK'"
   ]
  },
  {
   "cell_type": "markdown",
   "metadata": {},
   "source": [
    "### load and clean"
   ]
  },
  {
   "cell_type": "code",
   "execution_count": 9,
   "metadata": {},
   "outputs": [
    {
     "name": "stdout",
     "output_type": "stream",
     "text": [
      "starting from: (202, 83)\n",
      "removed  6 Protein Groups by: Only identified by site\n",
      "tot  6  entries removed\n",
      "---------------\n",
      "removed  1 Protein Groups by: Reverse\n",
      "tot  7  entries removed\n",
      "---------------\n",
      "removed  19 Protein Groups by: Potential contaminant\n",
      "tot  26  entries removed\n",
      "---------------\n",
      "Score\n",
      "nothing removed\n",
      "---------------\n",
      "removed  52 Protein Groups by: Peptide counts (unique)\n",
      "tot  78  entries removed\n",
      "---------------\n",
      "(124, 86)\n"
     ]
    },
    {
     "data": {
      "text/html": [
       "<div>\n",
       "<style scoped>\n",
       "    .dataframe tbody tr th:only-of-type {\n",
       "        vertical-align: middle;\n",
       "    }\n",
       "\n",
       "    .dataframe tbody tr th {\n",
       "        vertical-align: top;\n",
       "    }\n",
       "\n",
       "    .dataframe thead th {\n",
       "        text-align: right;\n",
       "    }\n",
       "</style>\n",
       "<table border=\"1\" class=\"dataframe\">\n",
       "  <thead>\n",
       "    <tr style=\"text-align: right;\">\n",
       "      <th></th>\n",
       "      <th>Protein IDs</th>\n",
       "      <th>Majority protein IDs</th>\n",
       "      <th>Peptide counts (all)</th>\n",
       "      <th>Peptide counts (razor+unique)</th>\n",
       "      <th>Peptide counts (unique)</th>\n",
       "      <th>Fasta headers</th>\n",
       "      <th>Number of proteins</th>\n",
       "      <th>Peptides</th>\n",
       "      <th>Razor + unique peptides</th>\n",
       "      <th>Unique peptides</th>\n",
       "      <th>...</th>\n",
       "      <th>Mod. peptide IDs</th>\n",
       "      <th>Evidence IDs</th>\n",
       "      <th>MS/MS IDs</th>\n",
       "      <th>Best MS/MS</th>\n",
       "      <th>Oxidation (M) site IDs</th>\n",
       "      <th>Oxidation (M) site positions</th>\n",
       "      <th>HC_gly</th>\n",
       "      <th>unique_int</th>\n",
       "      <th>Gene_id</th>\n",
       "      <th>desc</th>\n",
       "    </tr>\n",
       "  </thead>\n",
       "  <tbody>\n",
       "    <tr>\n",
       "      <th>35</th>\n",
       "      <td>Tb927.10.5620:mRNA-p1;Tb11.v5.0531.1-p1</td>\n",
       "      <td>Tb927.10.5620:mRNA-p1;Tb11.v5.0531.1-p1</td>\n",
       "      <td>22;22</td>\n",
       "      <td>22;22</td>\n",
       "      <td>22;22</td>\n",
       "      <td>Tb927.10.5620:mRNA-p1 | transcript=Tb927.10.56...</td>\n",
       "      <td>2</td>\n",
       "      <td>22</td>\n",
       "      <td>22</td>\n",
       "      <td>22</td>\n",
       "      <td>...</td>\n",
       "      <td>20;55;82;237;268;298;299;322;323;373;454;537;5...</td>\n",
       "      <td>29;30;81;82;123;124;125;126;127;362;363;364;36...</td>\n",
       "      <td>43;44;45;46;47;123;124;125;126;127;128;129;184...</td>\n",
       "      <td>45;123;184;596;690;791;847;851;1012;1205;1454;...</td>\n",
       "      <td>35;36;37</td>\n",
       "      <td>134;151;344</td>\n",
       "      <td>True</td>\n",
       "      <td>22</td>\n",
       "      <td>Tb927.10.5620</td>\n",
       "      <td>fructose-bisphosphate aldolase, glycosomal</td>\n",
       "    </tr>\n",
       "    <tr>\n",
       "      <th>42</th>\n",
       "      <td>Tb927.11.11330:mRNA-p1;Tb11.v5.1035.1-p1;Tb927...</td>\n",
       "      <td>Tb927.11.11330:mRNA-p1;Tb11.v5.1035.1-p1</td>\n",
       "      <td>5;5;2;2;1</td>\n",
       "      <td>5;5;2;2;1</td>\n",
       "      <td>5;5;2;2;1</td>\n",
       "      <td>Tb927.11.11330:mRNA-p1 | transcript=Tb927.11.1...</td>\n",
       "      <td>5</td>\n",
       "      <td>5</td>\n",
       "      <td>5</td>\n",
       "      <td>5</td>\n",
       "      <td>...</td>\n",
       "      <td>97;100;130;671;674</td>\n",
       "      <td>163;166;210;1118;1124</td>\n",
       "      <td>272;275;354;1825;1834</td>\n",
       "      <td>272;275;354;1825;1834</td>\n",
       "      <td>NaN</td>\n",
       "      <td>NaN</td>\n",
       "      <td>True</td>\n",
       "      <td>5</td>\n",
       "      <td>Tb927.11.11330</td>\n",
       "      <td>heat shock protein 70</td>\n",
       "    </tr>\n",
       "    <tr>\n",
       "      <th>50</th>\n",
       "      <td>Tb927.1.3830:mRNA-p1</td>\n",
       "      <td>Tb927.1.3830:mRNA-p1</td>\n",
       "      <td>2</td>\n",
       "      <td>2</td>\n",
       "      <td>2</td>\n",
       "      <td>Tb927.1.3830:mRNA-p1 | transcript=Tb927.1.3830...</td>\n",
       "      <td>1</td>\n",
       "      <td>2</td>\n",
       "      <td>2</td>\n",
       "      <td>2</td>\n",
       "      <td>...</td>\n",
       "      <td>558;559;786</td>\n",
       "      <td>940;941;1291</td>\n",
       "      <td>1537;1538;2082</td>\n",
       "      <td>1538;2082</td>\n",
       "      <td>49</td>\n",
       "      <td>410</td>\n",
       "      <td>True</td>\n",
       "      <td>2</td>\n",
       "      <td>Tb927.1.3830</td>\n",
       "      <td>glucose-6-phosphate isomerase, glycosomal</td>\n",
       "    </tr>\n",
       "    <tr>\n",
       "      <th>51</th>\n",
       "      <td>Tb927.1.720:mRNA-p1;Tb927.1.710:mRNA-p1;Tb927....</td>\n",
       "      <td>Tb927.1.720:mRNA-p1;Tb927.1.710:mRNA-p1;Tb927....</td>\n",
       "      <td>4;2;2</td>\n",
       "      <td>4;2;2</td>\n",
       "      <td>4;2;2</td>\n",
       "      <td>Tb927.1.720:mRNA-p1 | transcript=Tb927.1.720:m...</td>\n",
       "      <td>3</td>\n",
       "      <td>4</td>\n",
       "      <td>4</td>\n",
       "      <td>4</td>\n",
       "      <td>...</td>\n",
       "      <td>159;287;453;821</td>\n",
       "      <td>250;454;713;1343;1344</td>\n",
       "      <td>403;762;1198;2194</td>\n",
       "      <td>403;762;1198;2194</td>\n",
       "      <td>NaN</td>\n",
       "      <td>NaN</td>\n",
       "      <td>True</td>\n",
       "      <td>4</td>\n",
       "      <td>Tb927.1.720</td>\n",
       "      <td>phosphoglycerate kinase</td>\n",
       "    </tr>\n",
       "    <tr>\n",
       "      <th>62</th>\n",
       "      <td>Tb927.10.1390:mRNA-p1</td>\n",
       "      <td>Tb927.10.1390:mRNA-p1</td>\n",
       "      <td>9</td>\n",
       "      <td>9</td>\n",
       "      <td>9</td>\n",
       "      <td>Tb927.10.1390:mRNA-p1 | transcript=Tb927.10.13...</td>\n",
       "      <td>1</td>\n",
       "      <td>9</td>\n",
       "      <td>9</td>\n",
       "      <td>9</td>\n",
       "      <td>...</td>\n",
       "      <td>126;216;217;278;357;358;390;391;801;925;1000;1043</td>\n",
       "      <td>205;329;330;331;439;440;570;571;617;618;1312;1...</td>\n",
       "      <td>342;343;344;535;536;537;722;723;972;973;974;10...</td>\n",
       "      <td>343;536;723;973;1041;2121;2532;2698;2797</td>\n",
       "      <td>59;60</td>\n",
       "      <td>96;146</td>\n",
       "      <td>True</td>\n",
       "      <td>9</td>\n",
       "      <td>Tb927.10.1390</td>\n",
       "      <td>Hypoxanthine-guanine-xanthine phosphoribosyltr...</td>\n",
       "    </tr>\n",
       "  </tbody>\n",
       "</table>\n",
       "<p>5 rows × 86 columns</p>\n",
       "</div>"
      ],
      "text/plain": [
       "                                          Protein IDs                               Majority protein IDs Peptide counts (all) Peptide counts (razor+unique)  \\\n",
       "35            Tb927.10.5620:mRNA-p1;Tb11.v5.0531.1-p1            Tb927.10.5620:mRNA-p1;Tb11.v5.0531.1-p1                22;22                         22;22   \n",
       "42  Tb927.11.11330:mRNA-p1;Tb11.v5.1035.1-p1;Tb927...           Tb927.11.11330:mRNA-p1;Tb11.v5.1035.1-p1            5;5;2;2;1                     5;5;2;2;1   \n",
       "50                               Tb927.1.3830:mRNA-p1                               Tb927.1.3830:mRNA-p1                    2                             2   \n",
       "51  Tb927.1.720:mRNA-p1;Tb927.1.710:mRNA-p1;Tb927....  Tb927.1.720:mRNA-p1;Tb927.1.710:mRNA-p1;Tb927....                4;2;2                         4;2;2   \n",
       "62                              Tb927.10.1390:mRNA-p1                              Tb927.10.1390:mRNA-p1                    9                             9   \n",
       "\n",
       "   Peptide counts (unique)                                      Fasta headers  Number of proteins  Peptides  Razor + unique peptides  Unique peptides  ...  \\\n",
       "35                   22;22  Tb927.10.5620:mRNA-p1 | transcript=Tb927.10.56...                   2        22                       22               22  ...   \n",
       "42               5;5;2;2;1  Tb927.11.11330:mRNA-p1 | transcript=Tb927.11.1...                   5         5                        5                5  ...   \n",
       "50                       2  Tb927.1.3830:mRNA-p1 | transcript=Tb927.1.3830...                   1         2                        2                2  ...   \n",
       "51                   4;2;2  Tb927.1.720:mRNA-p1 | transcript=Tb927.1.720:m...                   3         4                        4                4  ...   \n",
       "62                       9  Tb927.10.1390:mRNA-p1 | transcript=Tb927.10.13...                   1         9                        9                9  ...   \n",
       "\n",
       "                                     Mod. peptide IDs                                       Evidence IDs                                          MS/MS IDs  \\\n",
       "35  20;55;82;237;268;298;299;322;323;373;454;537;5...  29;30;81;82;123;124;125;126;127;362;363;364;36...  43;44;45;46;47;123;124;125;126;127;128;129;184...   \n",
       "42                                 97;100;130;671;674                              163;166;210;1118;1124                              272;275;354;1825;1834   \n",
       "50                                        558;559;786                                       940;941;1291                                     1537;1538;2082   \n",
       "51                                    159;287;453;821                              250;454;713;1343;1344                                  403;762;1198;2194   \n",
       "62  126;216;217;278;357;358;390;391;801;925;1000;1043  205;329;330;331;439;440;570;571;617;618;1312;1...  342;343;344;535;536;537;722;723;972;973;974;10...   \n",
       "\n",
       "                                           Best MS/MS  Oxidation (M) site IDs  Oxidation (M) site positions  HC_gly  unique_int         Gene_id  \\\n",
       "35  45;123;184;596;690;791;847;851;1012;1205;1454;...                35;36;37                   134;151;344    True          22   Tb927.10.5620   \n",
       "42                              272;275;354;1825;1834                     NaN                           NaN    True           5  Tb927.11.11330   \n",
       "50                                          1538;2082                      49                           410    True           2    Tb927.1.3830   \n",
       "51                                  403;762;1198;2194                     NaN                           NaN    True           4     Tb927.1.720   \n",
       "62           343;536;723;973;1041;2121;2532;2698;2797                   59;60                        96;146    True           9   Tb927.10.1390   \n",
       "\n",
       "                                                 desc  \n",
       "35         fructose-bisphosphate aldolase, glycosomal  \n",
       "42                              heat shock protein 70  \n",
       "50          glucose-6-phosphate isomerase, glycosomal  \n",
       "51                            phosphoglycerate kinase  \n",
       "62  Hypoxanthine-guanine-xanthine phosphoribosyltr...  \n",
       "\n",
       "[5 rows x 86 columns]"
      ]
     },
     "execution_count": 9,
     "metadata": {},
     "output_type": "execute_result"
    }
   ],
   "source": [
    "df = PTUT.clean_df(df, score=5, unique_pep_threshold=2)\n",
    "df = PTUT.mod_df(df)\n",
    "print(df.shape)\n",
    "df = df[df['HC_gly']]\n",
    "df.head()"
   ]
  },
  {
   "cell_type": "code",
   "execution_count": 10,
   "metadata": {},
   "outputs": [],
   "source": [
    "df['Gene Name or Symbol'] = [symbol_dict.get(n) for n in df['Gene_id']]"
   ]
  },
  {
   "cell_type": "code",
   "execution_count": 11,
   "metadata": {},
   "outputs": [
    {
     "data": {
      "text/plain": [
       "(26, 87)"
      ]
     },
     "execution_count": 11,
     "metadata": {},
     "output_type": "execute_result"
    }
   ],
   "source": [
    "df[df['HC_gly']].shape"
   ]
  },
  {
   "cell_type": "code",
   "execution_count": 12,
   "metadata": {},
   "outputs": [
    {
     "data": {
      "text/plain": [
       "<matplotlib.axes._subplots.AxesSubplot at 0x122999160>"
      ]
     },
     "execution_count": 12,
     "metadata": {},
     "output_type": "execute_result"
    },
    {
     "data": {
      "image/png": "[encoded data removed]",
      "text/plain": [
       "<Figure size 432x288 with 1 Axes>"
      ]
     },
     "metadata": {},
     "output_type": "display_data"
    }
   ],
   "source": [
    "df['Score'].plot(kind='hist')"
   ]
  },
  {
   "cell_type": "markdown",
   "metadata": {},
   "source": [
    "## Extract Ibaq Values\n",
    "Let's have a look at the intensity values"
   ]
  },
  {
   "cell_type": "code",
   "execution_count": 13,
   "metadata": {},
   "outputs": [],
   "source": [
    "#color palette\n",
    "palette=['b','r']\n",
    "palette_g = ['r','b']\n",
    "color_dictionary = { 'b':'LG1','r':'LG2'}"
   ]
  },
  {
   "cell_type": "code",
   "execution_count": 14,
   "metadata": {},
   "outputs": [],
   "source": [
    "#list(df.columns)iBAQ LG1"
   ]
  },
  {
   "cell_type": "code",
   "execution_count": 15,
   "metadata": {},
   "outputs": [
    {
     "name": "stdout",
     "output_type": "stream",
     "text": [
      "(26, 2)\n",
      "(26, 2)\n"
     ]
    }
   ],
   "source": [
    "#tag ='Intensity'\n",
    "tag ='iBAQ'\n",
    "#tag ='LFQ intensity'\n",
    "cols=[' LG1',' LG2']\n",
    "cols = [tag+n for n in cols]\n",
    "selection = df[cols]\n",
    "selection.columns = [n.split(' ')[-1] for n in cols]\n",
    "print(selection.shape)\n",
    "selection = selection[(selection.T != 0).any()]\n",
    "print(selection.shape)\n",
    "\n",
    "#selection.rename({'PULL':'POOL'},axis=1,inplace=True)\n",
    "#selection.describe()"
   ]
  },
  {
   "cell_type": "code",
   "execution_count": 16,
   "metadata": {},
   "outputs": [
    {
     "data": {
      "image/png": "[encoded data removed]",
      "text/plain": [
       "<Figure size 360x720 with 2 Axes>"
      ]
     },
     "metadata": {},
     "output_type": "display_data"
    }
   ],
   "source": [
    "plt.style.use('ggplot')\n",
    "fig,axes=plt.subplots(ncols=1,nrows=2,figsize=(5,10))\n",
    "\n",
    "np.log1p(selection).plot(kind='hist', color=palette, histtype='step',ax=axes[0])\n",
    "axes[0].legend(loc='center left', bbox_to_anchor=(0.7, 0.5))\n",
    "axes[0].set_title('Value Distribution')\n",
    "axes[0].set_xlabel('Log10 Intensity')\n",
    "axes[0].legend(bbox_to_anchor=(1.1, 1.05))\n",
    "sns.boxplot(data =np.log10(selection.replace(0,np.nan)),\n",
    "            showfliers=False,palette=palette,ax=axes[1])\n",
    "plt.title('Value Distribution')\n",
    "plt.xlabel('Log10 Intensity')\n",
    "plt.savefig(os.path.join('../value_distribution.png'))\n",
    "plt.show()"
   ]
  },
  {
   "cell_type": "markdown",
   "metadata": {},
   "source": [
    "## Missing Data Analysis"
   ]
  },
  {
   "cell_type": "code",
   "execution_count": 17,
   "metadata": {},
   "outputs": [
    {
     "data": {
      "image/png": "[encoded data removed]",
      "text/plain": [
       "<Figure size 432x432 with 3 Axes>"
      ]
     },
     "metadata": {},
     "output_type": "display_data"
    }
   ],
   "source": [
    "import missingno as msno\n",
    "import numpy as np\n",
    "import matplotlib.pyplot as plt\n",
    "#visualization of missing data\n",
    "ax=msno.bar(selection.replace(0,np.nan),figsize=(6, 6))\n",
    "plt.title('Missing Data Analysis',size=12)\n",
    "ax.set_ylabel('Fraction of data points',size=12)\n",
    "plt.tight_layout()\n",
    "plt.savefig('missing.png')\n",
    "plt.show()"
   ]
  },
  {
   "cell_type": "code",
   "execution_count": 18,
   "metadata": {},
   "outputs": [
    {
     "data": {
      "image/png": "[encoded data removed]",
      "text/plain": [
       "<Figure size 432x432 with 2 Axes>"
      ]
     },
     "metadata": {},
     "output_type": "display_data"
    }
   ],
   "source": [
    "#print(data.shape)\n",
    "msno.matrix(selection.replace(0,np.nan), figsize=(6, 6))\n",
    "plt.show()"
   ]
  },
  {
   "cell_type": "code",
   "execution_count": 19,
   "metadata": {},
   "outputs": [
    {
     "data": {
      "text/html": [
       "<div>\n",
       "<style scoped>\n",
       "    .dataframe tbody tr th:only-of-type {\n",
       "        vertical-align: middle;\n",
       "    }\n",
       "\n",
       "    .dataframe tbody tr th {\n",
       "        vertical-align: top;\n",
       "    }\n",
       "\n",
       "    .dataframe thead th {\n",
       "        text-align: right;\n",
       "    }\n",
       "</style>\n",
       "<table border=\"1\" class=\"dataframe\">\n",
       "  <thead>\n",
       "    <tr style=\"text-align: right;\">\n",
       "      <th></th>\n",
       "      <th>LG1</th>\n",
       "      <th>LG2</th>\n",
       "    </tr>\n",
       "  </thead>\n",
       "  <tbody>\n",
       "    <tr>\n",
       "      <th>35</th>\n",
       "      <td>2115900.0</td>\n",
       "      <td>3157000.0</td>\n",
       "    </tr>\n",
       "    <tr>\n",
       "      <th>42</th>\n",
       "      <td>13510.0</td>\n",
       "      <td>0.0</td>\n",
       "    </tr>\n",
       "    <tr>\n",
       "      <th>50</th>\n",
       "      <td>3109.5</td>\n",
       "      <td>5612.3</td>\n",
       "    </tr>\n",
       "    <tr>\n",
       "      <th>51</th>\n",
       "      <td>4282.1</td>\n",
       "      <td>10640.0</td>\n",
       "    </tr>\n",
       "    <tr>\n",
       "      <th>62</th>\n",
       "      <td>48473.0</td>\n",
       "      <td>166190.0</td>\n",
       "    </tr>\n",
       "  </tbody>\n",
       "</table>\n",
       "</div>"
      ],
      "text/plain": [
       "          LG1        LG2\n",
       "35  2115900.0  3157000.0\n",
       "42    13510.0        0.0\n",
       "50     3109.5     5612.3\n",
       "51     4282.1    10640.0\n",
       "62    48473.0   166190.0"
      ]
     },
     "execution_count": 19,
     "metadata": {},
     "output_type": "execute_result"
    }
   ],
   "source": [
    "selection.head()"
   ]
  },
  {
   "cell_type": "code",
   "execution_count": 20,
   "metadata": {},
   "outputs": [
    {
     "name": "stdout",
     "output_type": "stream",
     "text": [
      " Found only in LG1: 1 \n",
      " Found only in LG2: 2\n"
     ]
    }
   ],
   "source": [
    "lg1_nan = selection[['LG1']].replace(0,np.nan).isna().sum(axis=1)\n",
    "lg2_nan  = selection[['LG2']].replace(0,np.nan).isna().sum(axis=1)\n",
    "only_lg_1 = selection[(lg2_nan==1) & (lg1_nan==0)]\n",
    "only_lg_2 = selection[(lg2_nan==0) & (lg1_nan==1)]\n",
    "print(' Found only in LG1:',only_lg_1.shape[0],'\\n',\n",
    "      'Found only in LG2:',only_lg_2.shape[0])"
   ]
  },
  {
   "cell_type": "code",
   "execution_count": 21,
   "metadata": {},
   "outputs": [
    {
     "data": {
      "text/html": [
       "<div>\n",
       "<style scoped>\n",
       "    .dataframe tbody tr th:only-of-type {\n",
       "        vertical-align: middle;\n",
       "    }\n",
       "\n",
       "    .dataframe tbody tr th {\n",
       "        vertical-align: top;\n",
       "    }\n",
       "\n",
       "    .dataframe thead th {\n",
       "        text-align: right;\n",
       "    }\n",
       "</style>\n",
       "<table border=\"1\" class=\"dataframe\">\n",
       "  <thead>\n",
       "    <tr style=\"text-align: right;\">\n",
       "      <th></th>\n",
       "      <th>Protein IDs</th>\n",
       "      <th>Majority protein IDs</th>\n",
       "      <th>Peptide counts (all)</th>\n",
       "      <th>Peptide counts (razor+unique)</th>\n",
       "      <th>Peptide counts (unique)</th>\n",
       "      <th>Fasta headers</th>\n",
       "      <th>Number of proteins</th>\n",
       "      <th>Peptides</th>\n",
       "      <th>Razor + unique peptides</th>\n",
       "      <th>Unique peptides</th>\n",
       "      <th>...</th>\n",
       "      <th>Evidence IDs</th>\n",
       "      <th>MS/MS IDs</th>\n",
       "      <th>Best MS/MS</th>\n",
       "      <th>Oxidation (M) site IDs</th>\n",
       "      <th>Oxidation (M) site positions</th>\n",
       "      <th>HC_gly</th>\n",
       "      <th>unique_int</th>\n",
       "      <th>Gene_id</th>\n",
       "      <th>desc</th>\n",
       "      <th>Gene Name or Symbol</th>\n",
       "    </tr>\n",
       "  </thead>\n",
       "  <tbody>\n",
       "    <tr>\n",
       "      <th>35</th>\n",
       "      <td>Tb927.10.5620:mRNA-p1;Tb11.v5.0531.1-p1</td>\n",
       "      <td>Tb927.10.5620:mRNA-p1;Tb11.v5.0531.1-p1</td>\n",
       "      <td>22;22</td>\n",
       "      <td>22;22</td>\n",
       "      <td>22;22</td>\n",
       "      <td>Tb927.10.5620:mRNA-p1 | transcript=Tb927.10.56...</td>\n",
       "      <td>2</td>\n",
       "      <td>22</td>\n",
       "      <td>22</td>\n",
       "      <td>22</td>\n",
       "      <td>...</td>\n",
       "      <td>29;30;81;82;123;124;125;126;127;362;363;364;36...</td>\n",
       "      <td>43;44;45;46;47;123;124;125;126;127;128;129;184...</td>\n",
       "      <td>45;123;184;596;690;791;847;851;1012;1205;1454;...</td>\n",
       "      <td>35;36;37</td>\n",
       "      <td>134;151;344</td>\n",
       "      <td>True</td>\n",
       "      <td>22</td>\n",
       "      <td>Tb927.10.5620</td>\n",
       "      <td>fructose-bisphosphate aldolase, glycosomal</td>\n",
       "      <td>ALD</td>\n",
       "    </tr>\n",
       "    <tr>\n",
       "      <th>42</th>\n",
       "      <td>Tb927.11.11330:mRNA-p1;Tb11.v5.1035.1-p1;Tb927...</td>\n",
       "      <td>Tb927.11.11330:mRNA-p1;Tb11.v5.1035.1-p1</td>\n",
       "      <td>5;5;2;2;1</td>\n",
       "      <td>5;5;2;2;1</td>\n",
       "      <td>5;5;2;2;1</td>\n",
       "      <td>Tb927.11.11330:mRNA-p1 | transcript=Tb927.11.1...</td>\n",
       "      <td>5</td>\n",
       "      <td>5</td>\n",
       "      <td>5</td>\n",
       "      <td>5</td>\n",
       "      <td>...</td>\n",
       "      <td>163;166;210;1118;1124</td>\n",
       "      <td>272;275;354;1825;1834</td>\n",
       "      <td>272;275;354;1825;1834</td>\n",
       "      <td>NaN</td>\n",
       "      <td>NaN</td>\n",
       "      <td>True</td>\n",
       "      <td>5</td>\n",
       "      <td>Tb927.11.11330</td>\n",
       "      <td>heat shock protein 70</td>\n",
       "      <td>HSP70</td>\n",
       "    </tr>\n",
       "    <tr>\n",
       "      <th>50</th>\n",
       "      <td>Tb927.1.3830:mRNA-p1</td>\n",
       "      <td>Tb927.1.3830:mRNA-p1</td>\n",
       "      <td>2</td>\n",
       "      <td>2</td>\n",
       "      <td>2</td>\n",
       "      <td>Tb927.1.3830:mRNA-p1 | transcript=Tb927.1.3830...</td>\n",
       "      <td>1</td>\n",
       "      <td>2</td>\n",
       "      <td>2</td>\n",
       "      <td>2</td>\n",
       "      <td>...</td>\n",
       "      <td>940;941;1291</td>\n",
       "      <td>1537;1538;2082</td>\n",
       "      <td>1538;2082</td>\n",
       "      <td>49</td>\n",
       "      <td>410</td>\n",
       "      <td>True</td>\n",
       "      <td>2</td>\n",
       "      <td>Tb927.1.3830</td>\n",
       "      <td>glucose-6-phosphate isomerase, glycosomal</td>\n",
       "      <td>PGI</td>\n",
       "    </tr>\n",
       "    <tr>\n",
       "      <th>51</th>\n",
       "      <td>Tb927.1.720:mRNA-p1;Tb927.1.710:mRNA-p1;Tb927....</td>\n",
       "      <td>Tb927.1.720:mRNA-p1;Tb927.1.710:mRNA-p1;Tb927....</td>\n",
       "      <td>4;2;2</td>\n",
       "      <td>4;2;2</td>\n",
       "      <td>4;2;2</td>\n",
       "      <td>Tb927.1.720:mRNA-p1 | transcript=Tb927.1.720:m...</td>\n",
       "      <td>3</td>\n",
       "      <td>4</td>\n",
       "      <td>4</td>\n",
       "      <td>4</td>\n",
       "      <td>...</td>\n",
       "      <td>250;454;713;1343;1344</td>\n",
       "      <td>403;762;1198;2194</td>\n",
       "      <td>403;762;1198;2194</td>\n",
       "      <td>NaN</td>\n",
       "      <td>NaN</td>\n",
       "      <td>True</td>\n",
       "      <td>4</td>\n",
       "      <td>Tb927.1.720</td>\n",
       "      <td>phosphoglycerate kinase</td>\n",
       "      <td>PGKA</td>\n",
       "    </tr>\n",
       "    <tr>\n",
       "      <th>62</th>\n",
       "      <td>Tb927.10.1390:mRNA-p1</td>\n",
       "      <td>Tb927.10.1390:mRNA-p1</td>\n",
       "      <td>9</td>\n",
       "      <td>9</td>\n",
       "      <td>9</td>\n",
       "      <td>Tb927.10.1390:mRNA-p1 | transcript=Tb927.10.13...</td>\n",
       "      <td>1</td>\n",
       "      <td>9</td>\n",
       "      <td>9</td>\n",
       "      <td>9</td>\n",
       "      <td>...</td>\n",
       "      <td>205;329;330;331;439;440;570;571;617;618;1312;1...</td>\n",
       "      <td>342;343;344;535;536;537;722;723;972;973;974;10...</td>\n",
       "      <td>343;536;723;973;1041;2121;2532;2698;2797</td>\n",
       "      <td>59;60</td>\n",
       "      <td>96;146</td>\n",
       "      <td>True</td>\n",
       "      <td>9</td>\n",
       "      <td>Tb927.10.1390</td>\n",
       "      <td>Hypoxanthine-guanine-xanthine phosphoribosyltr...</td>\n",
       "      <td>HGXPRT</td>\n",
       "    </tr>\n",
       "  </tbody>\n",
       "</table>\n",
       "<p>5 rows × 87 columns</p>\n",
       "</div>"
      ],
      "text/plain": [
       "                                          Protein IDs                               Majority protein IDs Peptide counts (all) Peptide counts (razor+unique)  \\\n",
       "35            Tb927.10.5620:mRNA-p1;Tb11.v5.0531.1-p1            Tb927.10.5620:mRNA-p1;Tb11.v5.0531.1-p1                22;22                         22;22   \n",
       "42  Tb927.11.11330:mRNA-p1;Tb11.v5.1035.1-p1;Tb927...           Tb927.11.11330:mRNA-p1;Tb11.v5.1035.1-p1            5;5;2;2;1                     5;5;2;2;1   \n",
       "50                               Tb927.1.3830:mRNA-p1                               Tb927.1.3830:mRNA-p1                    2                             2   \n",
       "51  Tb927.1.720:mRNA-p1;Tb927.1.710:mRNA-p1;Tb927....  Tb927.1.720:mRNA-p1;Tb927.1.710:mRNA-p1;Tb927....                4;2;2                         4;2;2   \n",
       "62                              Tb927.10.1390:mRNA-p1                              Tb927.10.1390:mRNA-p1                    9                             9   \n",
       "\n",
       "   Peptide counts (unique)                                      Fasta headers  Number of proteins  Peptides  Razor + unique peptides  Unique peptides  ...  \\\n",
       "35                   22;22  Tb927.10.5620:mRNA-p1 | transcript=Tb927.10.56...                   2        22                       22               22  ...   \n",
       "42               5;5;2;2;1  Tb927.11.11330:mRNA-p1 | transcript=Tb927.11.1...                   5         5                        5                5  ...   \n",
       "50                       2  Tb927.1.3830:mRNA-p1 | transcript=Tb927.1.3830...                   1         2                        2                2  ...   \n",
       "51                   4;2;2  Tb927.1.720:mRNA-p1 | transcript=Tb927.1.720:m...                   3         4                        4                4  ...   \n",
       "62                       9  Tb927.10.1390:mRNA-p1 | transcript=Tb927.10.13...                   1         9                        9                9  ...   \n",
       "\n",
       "                                         Evidence IDs                                          MS/MS IDs                                         Best MS/MS  \\\n",
       "35  29;30;81;82;123;124;125;126;127;362;363;364;36...  43;44;45;46;47;123;124;125;126;127;128;129;184...  45;123;184;596;690;791;847;851;1012;1205;1454;...   \n",
       "42                              163;166;210;1118;1124                              272;275;354;1825;1834                              272;275;354;1825;1834   \n",
       "50                                       940;941;1291                                     1537;1538;2082                                          1538;2082   \n",
       "51                              250;454;713;1343;1344                                  403;762;1198;2194                                  403;762;1198;2194   \n",
       "62  205;329;330;331;439;440;570;571;617;618;1312;1...  342;343;344;535;536;537;722;723;972;973;974;10...           343;536;723;973;1041;2121;2532;2698;2797   \n",
       "\n",
       "    Oxidation (M) site IDs  Oxidation (M) site positions  HC_gly  unique_int         Gene_id                                               desc  \\\n",
       "35                35;36;37                   134;151;344    True          22   Tb927.10.5620         fructose-bisphosphate aldolase, glycosomal   \n",
       "42                     NaN                           NaN    True           5  Tb927.11.11330                              heat shock protein 70   \n",
       "50                      49                           410    True           2    Tb927.1.3830          glucose-6-phosphate isomerase, glycosomal   \n",
       "51                     NaN                           NaN    True           4     Tb927.1.720                            phosphoglycerate kinase   \n",
       "62                   59;60                        96;146    True           9   Tb927.10.1390  Hypoxanthine-guanine-xanthine phosphoribosyltr...   \n",
       "\n",
       "    Gene Name or Symbol  \n",
       "35                  ALD  \n",
       "42                HSP70  \n",
       "50                  PGI  \n",
       "51                 PGKA  \n",
       "62               HGXPRT  \n",
       "\n",
       "[5 rows x 87 columns]"
      ]
     },
     "execution_count": 21,
     "metadata": {},
     "output_type": "execute_result"
    }
   ],
   "source": [
    "df.head()"
   ]
  },
  {
   "cell_type": "code",
   "execution_count": 22,
   "metadata": {},
   "outputs": [
    {
     "data": {
      "text/html": [
       "<div>\n",
       "<style scoped>\n",
       "    .dataframe tbody tr th:only-of-type {\n",
       "        vertical-align: middle;\n",
       "    }\n",
       "\n",
       "    .dataframe tbody tr th {\n",
       "        vertical-align: top;\n",
       "    }\n",
       "\n",
       "    .dataframe thead th {\n",
       "        text-align: right;\n",
       "    }\n",
       "</style>\n",
       "<table border=\"1\" class=\"dataframe\">\n",
       "  <thead>\n",
       "    <tr style=\"text-align: right;\">\n",
       "      <th></th>\n",
       "      <th>LG1</th>\n",
       "      <th>LG2</th>\n",
       "      <th>Protein IDs</th>\n",
       "      <th>desc</th>\n",
       "      <th>HC_gly</th>\n",
       "    </tr>\n",
       "  </thead>\n",
       "  <tbody>\n",
       "    <tr>\n",
       "      <th>42</th>\n",
       "      <td>9.511259</td>\n",
       "      <td>0.0</td>\n",
       "      <td>Tb927.11.11330:mRNA-p1;Tb11.v5.1035.1-p1;Tb927...</td>\n",
       "      <td>heat shock protein 70</td>\n",
       "      <td>True</td>\n",
       "    </tr>\n",
       "  </tbody>\n",
       "</table>\n",
       "</div>"
      ],
      "text/plain": [
       "         LG1  LG2                                        Protein IDs                   desc  HC_gly\n",
       "42  9.511259  0.0  Tb927.11.11330:mRNA-p1;Tb11.v5.1035.1-p1;Tb927...  heat shock protein 70    True"
      ]
     },
     "execution_count": 22,
     "metadata": {},
     "output_type": "execute_result"
    }
   ],
   "source": [
    "np.log1p(only_lg_1).join(df[['Protein IDs','desc','HC_gly']])"
   ]
  },
  {
   "cell_type": "code",
   "execution_count": 23,
   "metadata": {},
   "outputs": [
    {
     "data": {
      "text/html": [
       "<div>\n",
       "<style scoped>\n",
       "    .dataframe tbody tr th:only-of-type {\n",
       "        vertical-align: middle;\n",
       "    }\n",
       "\n",
       "    .dataframe tbody tr th {\n",
       "        vertical-align: top;\n",
       "    }\n",
       "\n",
       "    .dataframe thead th {\n",
       "        text-align: right;\n",
       "    }\n",
       "</style>\n",
       "<table border=\"1\" class=\"dataframe\">\n",
       "  <thead>\n",
       "    <tr style=\"text-align: right;\">\n",
       "      <th></th>\n",
       "      <th>LG1</th>\n",
       "      <th>LG2</th>\n",
       "      <th>Protein IDs</th>\n",
       "      <th>desc</th>\n",
       "      <th>Gene Name or Symbol</th>\n",
       "    </tr>\n",
       "  </thead>\n",
       "  <tbody>\n",
       "    <tr>\n",
       "      <th>168</th>\n",
       "      <td>0.0</td>\n",
       "      <td>10.020604</td>\n",
       "      <td>Tb927.7.5680:mRNA-p1</td>\n",
       "      <td>deoxyribose-phosphate aldolase, putative</td>\n",
       "      <td>dRPA</td>\n",
       "    </tr>\n",
       "    <tr>\n",
       "      <th>200</th>\n",
       "      <td>0.0</td>\n",
       "      <td>9.918622</td>\n",
       "      <td>Tb927.9.9000:mRNA-p1</td>\n",
       "      <td>isopentenyl-diphosphate delta-isomerase (type II)</td>\n",
       "      <td>idi1</td>\n",
       "    </tr>\n",
       "  </tbody>\n",
       "</table>\n",
       "</div>"
      ],
      "text/plain": [
       "     LG1        LG2           Protein IDs                                               desc Gene Name or Symbol\n",
       "168  0.0  10.020604  Tb927.7.5680:mRNA-p1           deoxyribose-phosphate aldolase, putative                dRPA\n",
       "200  0.0   9.918622  Tb927.9.9000:mRNA-p1  isopentenyl-diphosphate delta-isomerase (type II)                idi1"
      ]
     },
     "execution_count": 23,
     "metadata": {},
     "output_type": "execute_result"
    }
   ],
   "source": [
    "np.log1p(only_lg_2).join(df[['Protein IDs','desc','Gene Name or Symbol']])"
   ]
  },
  {
   "cell_type": "markdown",
   "metadata": {},
   "source": [
    "## Figure  paper"
   ]
  },
  {
   "cell_type": "code",
   "execution_count": 24,
   "metadata": {},
   "outputs": [
    {
     "data": {
      "image/png": "[encoded data removed]",
      "text/plain": [
       "<Figure size 288x576 with 1 Axes>"
      ]
     },
     "metadata": {},
     "output_type": "display_data"
    }
   ],
   "source": [
    "plt.style.use('grayscale')\n",
    "font_dict = {'fontname':'Arial','fontsize':12}\n",
    "\n",
    "temp = df[['Protein IDs','desc','Gene Name or Symbol']+cols]\n",
    "temp.columns = ['Protein IDs','desc', 'Gene Name or Symbol','Fraction 1', 'Fraction 2']\n",
    "temp['sum_ibaq']=temp[['Fraction 1', 'Fraction 2']].sum(axis=1)\n",
    "temp = temp.sort_values('sum_ibaq',ascending=True)\n",
    "temp[['Fraction 1', 'Fraction 2']]=np.log1p(temp[['Fraction 1', 'Fraction 2']])/2.303\n",
    "del temp['sum_ibaq']\n",
    "temp.plot(kind='barh', figsize=(4,8))\n",
    "locs, labels = plt.yticks()\n",
    "#plt.yticks(locs, [n.split(',')[0] if '1,6' not in n else n\n",
    "#                  for n in list(temp['desc'])], **font_dict)\n",
    "plt.yticks(locs, list(temp['Gene Name or Symbol']), **font_dict)\n",
    "\n",
    "plt.legend(bbox_to_anchor=(1.1, 1.1))\n",
    "plt.xlabel('log10 ' +tag,**font_dict)\n",
    "\n",
    "\n",
    "plt.tight_layout()\n",
    "plt.grid(b=None,axis='y')\n",
    "plt.rcParams['font.size'] = 12\n",
    "plt.rcParams['font.family'] = 'Arial'\n",
    "\n",
    "\n",
    "plt.savefig('FigX.png')\n",
    "plt.savefig('FigX.svg')\n",
    "\n",
    "plt.show()"
   ]
  },
  {
   "cell_type": "code",
   "execution_count": 25,
   "metadata": {},
   "outputs": [
    {
     "data": {
      "image/png": "[encoded data removed]",
      "text/plain": [
       "<Figure size 576x288 with 1 Axes>"
      ]
     },
     "metadata": {},
     "output_type": "display_data"
    }
   ],
   "source": [
    "plt.style.use('grayscale')\n",
    "font_dict = {'fontname':'Arial','fontsize':12}\n",
    "\n",
    "temp = df[['Protein IDs','desc','Gene Name or Symbol']+cols]\n",
    "temp.columns = ['Protein IDs','desc', 'Gene Name or Symbol','Fraction 1', 'Fraction 2']\n",
    "temp['sum_ibaq']=temp[['Fraction 1', 'Fraction 2']].sum(axis=1)\n",
    "temp = temp.sort_values('sum_ibaq',ascending=True)\n",
    "temp[['Fraction 1', 'Fraction 2']]=np.log1p(temp[['Fraction 1', 'Fraction 2']])/2.303\n",
    "del temp['sum_ibaq']\n",
    "temp.plot(kind='bar', figsize=(8,4))\n",
    "locs, labels = plt.xticks()\n",
    "#plt.yticks(locs, [n.split(',')[0] if '1,6' not in n else n\n",
    "#                  for n in list(temp['desc'])], **font_dict)\n",
    "plt.xticks(locs, list(temp['Gene Name or Symbol']), **font_dict)\n",
    "\n",
    "plt.legend(bbox_to_anchor=(1.1, 1.1))\n",
    "plt.ylabel('log10 ' +tag,**font_dict)\n",
    "\n",
    "\n",
    "plt.tight_layout()\n",
    "plt.grid(b=None,axis='x')\n",
    "plt.rcParams['font.size'] = 12\n",
    "plt.rcParams['font.family'] = 'Arial'\n",
    "\n",
    "plt.ylim(2.5,6.7)\n",
    "plt.savefig('FigX2.png')\n",
    "plt.savefig('FigX2.svg')\n",
    "\n",
    "plt.show()"
   ]
  },
  {
   "cell_type": "code",
   "execution_count": 26,
   "metadata": {},
   "outputs": [
    {
     "data": {
      "image/png": "[encoded data removed]",
      "text/plain": [
       "<Figure size 576x288 with 1 Axes>"
      ]
     },
     "metadata": {},
     "output_type": "display_data"
    }
   ],
   "source": [
    "plt.style.use('grayscale')\n",
    "font_dict = {'fontname':'Arial','fontsize':12}\n",
    "\n",
    "temp = df[['Protein IDs','desc','Gene Name or Symbol']+cols]\n",
    "temp.columns = ['Protein IDs','desc', 'Gene Name or Symbol','Fraction 1', 'Fraction 2']\n",
    "temp['sum_ibaq']=temp[['Fraction 1', 'Fraction 2']].sum(axis=1)\n",
    "temp = temp.sort_values('sum_ibaq',ascending=True)\n",
    "#temp[['Fraction 1', 'Fraction 2']]=np.log1p(temp[['Fraction 1', 'Fraction 2']])/2.303\n",
    "del temp['sum_ibaq']\n",
    "temp.plot(kind='bar', figsize=(8,4))\n",
    "locs, labels = plt.xticks()\n",
    "#plt.yticks(locs, [n.split(',')[0] if '1,6' not in n else n\n",
    "#                  for n in list(temp['desc'])], **font_dict)\n",
    "plt.xticks(locs, list(temp['Gene Name or Symbol']), **font_dict)\n",
    "\n",
    "plt.legend(bbox_to_anchor=(1.1, 1.1))\n",
    "plt.ylabel('log10 ' +tag, **font_dict)\n",
    "\n",
    "\n",
    "plt.tight_layout()\n",
    "plt.grid(b=None,axis='x')\n",
    "plt.rcParams['font.size'] = 12\n",
    "plt.rcParams['font.family'] = 'Arial'\n",
    "\n",
    "\n",
    "plt.savefig('FigX3.png')\n",
    "plt.savefig('FigX3.svg')\n",
    "\n",
    "plt.show()"
   ]
  },
  {
   "cell_type": "markdown",
   "metadata": {},
   "source": [
    "### save table"
   ]
  },
  {
   "cell_type": "code",
   "execution_count": 27,
   "metadata": {},
   "outputs": [],
   "source": [
    "temp.to_csv('table.csv')"
   ]
  },
  {
   "cell_type": "markdown",
   "metadata": {},
   "source": [
    "### Split image in 3 panels\n",
    "#### panel 1"
   ]
  },
  {
   "cell_type": "code",
   "execution_count": 28,
   "metadata": {},
   "outputs": [],
   "source": [
    "from matplotlib import ticker\n",
    "formatter = ticker.ScalarFormatter(useMathText=True)\n",
    "formatter.set_scientific(True) \n",
    "formatter.set_powerlimits((-1,1))"
   ]
  },
  {
   "cell_type": "code",
   "execution_count": 29,
   "metadata": {},
   "outputs": [
    {
     "data": {
      "image/png": "[encoded data removed]",
      "text/plain": [
       "<Figure size 360x288 with 1 Axes>"
      ]
     },
     "metadata": {},
     "output_type": "display_data"
    }
   ],
   "source": [
    "plt.style.use('grayscale')\n",
    "font_dict = {'fontname':'Arial','fontsize':12}\n",
    "\n",
    "temp = df[['Protein IDs','desc','Gene Name or Symbol']+cols]\n",
    "temp.columns = ['Protein IDs','desc', 'Gene Name or Symbol','Fraction 1', 'Fraction 2']\n",
    "temp['sum_ibaq']=temp[['Fraction 1', 'Fraction 2']].sum(axis=1)\n",
    "temp = temp.sort_values('sum_ibaq',ascending=True)\n",
    "temp = temp.iloc[:10,:]\n",
    "#temp[['Fraction 1', 'Fraction 2']]=np.log1p(temp[['Fraction 1', 'Fraction 2']])/2.303\n",
    "del temp['sum_ibaq']\n",
    "\n",
    "fig,ax = plt.subplots(figsize=(5,4))\n",
    "\n",
    "temp.plot(kind='bar', ax=ax)\n",
    "ax.yaxis.set_major_formatter(formatter) \n",
    "\n",
    "locs, labels = plt.xticks()\n",
    "#plt.yticks(locs, [n.split(',')[0] if '1,6' not in n else n\n",
    "#                  for n in list(temp['desc'])], **font_dict)\n",
    "plt.xticks(locs, list(temp['Gene Name or Symbol']), **font_dict)\n",
    "\n",
    "plt.legend(bbox_to_anchor=(1.1, 1.1))\n",
    "plt.ylabel(tag,**font_dict)\n",
    "\n",
    "plt.tight_layout()\n",
    "plt.grid(b=None,axis='x')\n",
    "plt.rcParams['font.size'] = 12\n",
    "plt.rcParams['font.family'] = 'Arial'\n",
    "\n",
    "#plt.axes.ticklabel_format(axis='y', style='scientific')\n",
    "\n",
    "plt.savefig('FigX3_a.png')\n",
    "plt.savefig('FigX3_a.svg')\n",
    "\n",
    "plt.show()"
   ]
  },
  {
   "cell_type": "markdown",
   "metadata": {},
   "source": [
    "#### panel 2"
   ]
  },
  {
   "cell_type": "code",
   "execution_count": 30,
   "metadata": {},
   "outputs": [
    {
     "data": {
      "image/png": "[encoded data removed]",
      "text/plain": [
       "<Figure size 360x288 with 1 Axes>"
      ]
     },
     "metadata": {},
     "output_type": "display_data"
    }
   ],
   "source": [
    "plt.style.use('grayscale')\n",
    "font_dict = {'fontname':'Arial','fontsize':12}\n",
    "\n",
    "temp = df[['Protein IDs','desc','Gene Name or Symbol']+cols]\n",
    "temp.columns = ['Protein IDs','desc', 'Gene Name or Symbol','Fraction 1', 'Fraction 2']\n",
    "temp['sum_ibaq']=temp[['Fraction 1', 'Fraction 2']].sum(axis=1)\n",
    "temp = temp.sort_values('sum_ibaq',ascending=True)\n",
    "temp = temp.iloc[10:19,:]\n",
    "#temp[['Fraction 1', 'Fraction 2']]=np.log1p(temp[['Fraction 1', 'Fraction 2']])/2.303\n",
    "del temp['sum_ibaq']\n",
    "\n",
    "fig,ax = plt.subplots(figsize=(5,4))\n",
    "\n",
    "temp.plot(kind='bar', ax=ax)\n",
    "ax.yaxis.set_major_formatter(formatter) \n",
    "\n",
    "locs, labels = plt.xticks()\n",
    "#plt.yticks(locs, [n.split(',')[0] if '1,6' not in n else n\n",
    "#                  for n in list(temp['desc'])], **font_dict)\n",
    "plt.xticks(locs, list(temp['Gene Name or Symbol']), **font_dict)\n",
    "\n",
    "plt.legend(bbox_to_anchor=(1.1, 1.1))\n",
    "plt.ylabel(tag,**font_dict)\n",
    "\n",
    "plt.tight_layout()\n",
    "plt.grid(b=None,axis='x')\n",
    "plt.rcParams['font.size'] = 12\n",
    "plt.rcParams['font.family'] = 'Arial'\n",
    "\n",
    "#plt.axes.ticklabel_format(axis='y', style='scientific')\n",
    "\n",
    "plt.savefig('FigX3_b.png')\n",
    "plt.savefig('FigX3_b.svg')\n",
    "\n",
    "plt.show()"
   ]
  },
  {
   "cell_type": "markdown",
   "metadata": {},
   "source": [
    "#### panel 3"
   ]
  },
  {
   "cell_type": "code",
   "execution_count": 31,
   "metadata": {},
   "outputs": [
    {
     "data": {
      "image/png": "[encoded data removed]",
      "text/plain": [
       "<Figure size 144x288 with 1 Axes>"
      ]
     },
     "metadata": {},
     "output_type": "display_data"
    }
   ],
   "source": [
    "\n",
    "plt.style.use('grayscale')\n",
    "font_dict = {'fontname':'Arial','fontsize':12}\n",
    "\n",
    "temp = df[['Protein IDs','desc','Gene Name or Symbol']+cols]\n",
    "temp.columns = ['Protein IDs','desc', 'Gene Name or Symbol','Fraction 1', 'Fraction 2']\n",
    "temp['sum_ibaq']=temp[['Fraction 1', 'Fraction 2']].sum(axis=1)\n",
    "temp = temp.sort_values('sum_ibaq',ascending=True)\n",
    "temp = temp.iloc[19:,:]\n",
    "#temp[['Fraction 1', 'Fraction 2']]=np.log1p(temp[['Fraction 1', 'Fraction 2']])/2.303\n",
    "del temp['sum_ibaq']\n",
    "\n",
    "fig,ax = plt.subplots(figsize=(2,4))\n",
    "temp.plot(kind='bar', ax=ax)\n",
    "locs, labels = plt.xticks()\n",
    "#plt.yticks(locs, [n.split(',')[0] if '1,6' not in n else n\n",
    "#                  for n in list(temp['desc'])], **font_dict)\n",
    "plt.xticks(locs, list(temp['Gene Name or Symbol']), **font_dict)\n",
    "\n",
    "plt.legend(bbox_to_anchor=(1.1, 1.1))\n",
    "plt.ylabel(tag,**font_dict)\n",
    "\n",
    "#plt.ticklabel_format(axis='y', style='scientific')\n",
    "ax.yaxis.set_major_formatter(formatter) \n",
    "\n",
    "plt.tight_layout()\n",
    "plt.grid(b=None,axis='x')\n",
    "plt.rcParams['font.size'] = 12\n",
    "plt.rcParams['font.family'] = 'Arial'\n",
    "\n",
    "\n",
    "plt.savefig('FigX3_c.png')\n",
    "plt.savefig('FigX3_c.svg')\n",
    "\n",
    "plt.show()"
   ]
  },
  {
   "cell_type": "code",
   "execution_count": null,
   "metadata": {},
   "outputs": [],
   "source": []
  },
  {
   "cell_type": "code",
   "execution_count": 32,
   "metadata": {},
   "outputs": [
    {
     "name": "stdout",
     "output_type": "stream",
     "text": [
      "[NbConvertApp] Converting notebook analysis.ipynb to html_toc\n",
      "[NbConvertApp] Support files will be in analysis_files/\n",
      "[NbConvertApp] Making directory analysis_files\n",
      "[NbConvertApp] Making directory analysis_files\n",
      "[NbConvertApp] Making directory analysis_files\n",
      "[NbConvertApp] Making directory analysis_files\n",
      "[NbConvertApp] Making directory analysis_files\n",
      "[NbConvertApp] Making directory analysis_files\n",
      "[NbConvertApp] Making directory analysis_files\n",
      "[NbConvertApp] Making directory analysis_files\n",
      "[NbConvertApp] Making directory analysis_files\n",
      "[NbConvertApp] Making directory analysis_files\n",
      "[NbConvertApp] Writing 364778 bytes to analysis.html\n"
     ]
    }
   ],
   "source": [
    "!jupyter nbconvert --to html_toc analysis.ipynb"
   ]
  },
  {
   "cell_type": "code",
   "execution_count": null,
   "metadata": {},
   "outputs": [],
   "source": []
  }
 ],
 "metadata": {
  "hide_input": false,
  "kernelspec": {
   "display_name": "Python 3",
   "language": "python",
   "name": "python3"
  },
  "language_info": {
   "codemirror_mode": {
    "name": "ipython",
    "version": 3
   },
   "file_extension": ".py",
   "mimetype": "text/x-python",
   "name": "python",
   "nbconvert_exporter": "python",
   "pygments_lexer": "ipython3",
   "version": "3.8.2"
  },
  "toc": {
   "base_numbering": 1,
   "nav_menu": {},
   "number_sections": true,
   "sideBar": true,
   "skip_h1_title": false,
   "title_cell": "Table of Contents",
   "title_sidebar": "Contents",
   "toc_cell": false,
   "toc_position": {
    "height": "calc(100% - 180px)",
    "left": "10px",
    "top": "150px",
    "width": "252.333px"
   },
   "toc_section_display": true,
   "toc_window_display": true
  }
 },
 "nbformat": 4,
 "nbformat_minor": 2
}
